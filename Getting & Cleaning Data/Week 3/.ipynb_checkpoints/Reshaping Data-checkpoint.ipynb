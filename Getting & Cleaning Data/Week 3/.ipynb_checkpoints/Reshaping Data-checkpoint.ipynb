{
 "cells": [
  {
   "cell_type": "markdown",
   "metadata": {},
   "source": [
    "# Reshaping Data"
   ]
  },
  {
   "cell_type": "code",
   "execution_count": 2,
   "metadata": {
    "collapsed": true
   },
   "outputs": [],
   "source": [
    "library(reshape2)"
   ]
  },
  {
   "cell_type": "code",
   "execution_count": 3,
   "metadata": {},
   "outputs": [
    {
     "data": {
      "text/html": [
       "<table>\n",
       "<thead><tr><th></th><th scope=col>mpg</th><th scope=col>cyl</th><th scope=col>disp</th><th scope=col>hp</th><th scope=col>drat</th><th scope=col>wt</th><th scope=col>qsec</th><th scope=col>vs</th><th scope=col>am</th><th scope=col>gear</th><th scope=col>carb</th></tr></thead>\n",
       "<tbody>\n",
       "\t<tr><th scope=row>Mazda RX4</th><td>21.0 </td><td>6    </td><td>160  </td><td>110  </td><td>3.90 </td><td>2.620</td><td>16.46</td><td>0    </td><td>1    </td><td>4    </td><td>4    </td></tr>\n",
       "\t<tr><th scope=row>Mazda RX4 Wag</th><td>21.0 </td><td>6    </td><td>160  </td><td>110  </td><td>3.90 </td><td>2.875</td><td>17.02</td><td>0    </td><td>1    </td><td>4    </td><td>4    </td></tr>\n",
       "\t<tr><th scope=row>Datsun 710</th><td>22.8 </td><td>4    </td><td>108  </td><td> 93  </td><td>3.85 </td><td>2.320</td><td>18.61</td><td>1    </td><td>1    </td><td>4    </td><td>1    </td></tr>\n",
       "\t<tr><th scope=row>Hornet 4 Drive</th><td>21.4 </td><td>6    </td><td>258  </td><td>110  </td><td>3.08 </td><td>3.215</td><td>19.44</td><td>1    </td><td>0    </td><td>3    </td><td>1    </td></tr>\n",
       "\t<tr><th scope=row>Hornet Sportabout</th><td>18.7 </td><td>8    </td><td>360  </td><td>175  </td><td>3.15 </td><td>3.440</td><td>17.02</td><td>0    </td><td>0    </td><td>3    </td><td>2    </td></tr>\n",
       "\t<tr><th scope=row>Valiant</th><td>18.1 </td><td>6    </td><td>225  </td><td>105  </td><td>2.76 </td><td>3.460</td><td>20.22</td><td>1    </td><td>0    </td><td>3    </td><td>1    </td></tr>\n",
       "</tbody>\n",
       "</table>\n"
      ],
      "text/latex": [
       "\\begin{tabular}{r|lllllllllll}\n",
       "  & mpg & cyl & disp & hp & drat & wt & qsec & vs & am & gear & carb\\\\\n",
       "\\hline\n",
       "\tMazda RX4 & 21.0  & 6     & 160   & 110   & 3.90  & 2.620 & 16.46 & 0     & 1     & 4     & 4    \\\\\n",
       "\tMazda RX4 Wag & 21.0  & 6     & 160   & 110   & 3.90  & 2.875 & 17.02 & 0     & 1     & 4     & 4    \\\\\n",
       "\tDatsun 710 & 22.8  & 4     & 108   &  93   & 3.85  & 2.320 & 18.61 & 1     & 1     & 4     & 1    \\\\\n",
       "\tHornet 4 Drive & 21.4  & 6     & 258   & 110   & 3.08  & 3.215 & 19.44 & 1     & 0     & 3     & 1    \\\\\n",
       "\tHornet Sportabout & 18.7  & 8     & 360   & 175   & 3.15  & 3.440 & 17.02 & 0     & 0     & 3     & 2    \\\\\n",
       "\tValiant & 18.1  & 6     & 225   & 105   & 2.76  & 3.460 & 20.22 & 1     & 0     & 3     & 1    \\\\\n",
       "\\end{tabular}\n"
      ],
      "text/markdown": [
       "\n",
       "| <!--/--> | mpg | cyl | disp | hp | drat | wt | qsec | vs | am | gear | carb | \n",
       "|---|---|---|---|---|---|\n",
       "| Mazda RX4 | 21.0  | 6     | 160   | 110   | 3.90  | 2.620 | 16.46 | 0     | 1     | 4     | 4     | \n",
       "| Mazda RX4 Wag | 21.0  | 6     | 160   | 110   | 3.90  | 2.875 | 17.02 | 0     | 1     | 4     | 4     | \n",
       "| Datsun 710 | 22.8  | 4     | 108   |  93   | 3.85  | 2.320 | 18.61 | 1     | 1     | 4     | 1     | \n",
       "| Hornet 4 Drive | 21.4  | 6     | 258   | 110   | 3.08  | 3.215 | 19.44 | 1     | 0     | 3     | 1     | \n",
       "| Hornet Sportabout | 18.7  | 8     | 360   | 175   | 3.15  | 3.440 | 17.02 | 0     | 0     | 3     | 2     | \n",
       "| Valiant | 18.1  | 6     | 225   | 105   | 2.76  | 3.460 | 20.22 | 1     | 0     | 3     | 1     | \n",
       "\n",
       "\n"
      ],
      "text/plain": [
       "                  mpg  cyl disp hp  drat wt    qsec  vs am gear carb\n",
       "Mazda RX4         21.0 6   160  110 3.90 2.620 16.46 0  1  4    4   \n",
       "Mazda RX4 Wag     21.0 6   160  110 3.90 2.875 17.02 0  1  4    4   \n",
       "Datsun 710        22.8 4   108   93 3.85 2.320 18.61 1  1  4    1   \n",
       "Hornet 4 Drive    21.4 6   258  110 3.08 3.215 19.44 1  0  3    1   \n",
       "Hornet Sportabout 18.7 8   360  175 3.15 3.440 17.02 0  0  3    2   \n",
       "Valiant           18.1 6   225  105 2.76 3.460 20.22 1  0  3    1   "
      ]
     },
     "metadata": {},
     "output_type": "display_data"
    }
   ],
   "source": [
    "head(mtcars)"
   ]
  },
  {
   "cell_type": "code",
   "execution_count": 4,
   "metadata": {},
   "outputs": [
    {
     "data": {
      "text/html": [
       "<table>\n",
       "<thead><tr><th scope=col>carname</th><th scope=col>gear</th><th scope=col>cyl</th><th scope=col>variable</th><th scope=col>value</th></tr></thead>\n",
       "<tbody>\n",
       "\t<tr><td>Mazda RX4    </td><td>4            </td><td>6            </td><td>mpg          </td><td>21.0         </td></tr>\n",
       "\t<tr><td>Mazda RX4 Wag</td><td>4            </td><td>6            </td><td>mpg          </td><td>21.0         </td></tr>\n",
       "\t<tr><td>Datsun 710   </td><td>4            </td><td>4            </td><td>mpg          </td><td>22.8         </td></tr>\n",
       "</tbody>\n",
       "</table>\n"
      ],
      "text/latex": [
       "\\begin{tabular}{r|lllll}\n",
       " carname & gear & cyl & variable & value\\\\\n",
       "\\hline\n",
       "\t Mazda RX4     & 4             & 6             & mpg           & 21.0         \\\\\n",
       "\t Mazda RX4 Wag & 4             & 6             & mpg           & 21.0         \\\\\n",
       "\t Datsun 710    & 4             & 4             & mpg           & 22.8         \\\\\n",
       "\\end{tabular}\n"
      ],
      "text/markdown": [
       "\n",
       "carname | gear | cyl | variable | value | \n",
       "|---|---|---|\n",
       "| Mazda RX4     | 4             | 6             | mpg           | 21.0          | \n",
       "| Mazda RX4 Wag | 4             | 6             | mpg           | 21.0          | \n",
       "| Datsun 710    | 4             | 4             | mpg           | 22.8          | \n",
       "\n",
       "\n"
      ],
      "text/plain": [
       "  carname       gear cyl variable value\n",
       "1 Mazda RX4     4    6   mpg      21.0 \n",
       "2 Mazda RX4 Wag 4    6   mpg      21.0 \n",
       "3 Datsun 710    4    4   mpg      22.8 "
      ]
     },
     "metadata": {},
     "output_type": "display_data"
    },
    {
     "data": {
      "text/html": [
       "<table>\n",
       "<thead><tr><th></th><th scope=col>carname</th><th scope=col>gear</th><th scope=col>cyl</th><th scope=col>variable</th><th scope=col>value</th></tr></thead>\n",
       "<tbody>\n",
       "\t<tr><th scope=row>62</th><td>Ferrari Dino </td><td>5            </td><td>6            </td><td>hp           </td><td>175          </td></tr>\n",
       "\t<tr><th scope=row>63</th><td>Maserati Bora</td><td>5            </td><td>8            </td><td>hp           </td><td>335          </td></tr>\n",
       "\t<tr><th scope=row>64</th><td>Volvo 142E   </td><td>4            </td><td>4            </td><td>hp           </td><td>109          </td></tr>\n",
       "</tbody>\n",
       "</table>\n"
      ],
      "text/latex": [
       "\\begin{tabular}{r|lllll}\n",
       "  & carname & gear & cyl & variable & value\\\\\n",
       "\\hline\n",
       "\t62 & Ferrari Dino  & 5             & 6             & hp            & 175          \\\\\n",
       "\t63 & Maserati Bora & 5             & 8             & hp            & 335          \\\\\n",
       "\t64 & Volvo 142E    & 4             & 4             & hp            & 109          \\\\\n",
       "\\end{tabular}\n"
      ],
      "text/markdown": [
       "\n",
       "| <!--/--> | carname | gear | cyl | variable | value | \n",
       "|---|---|---|\n",
       "| 62 | Ferrari Dino  | 5             | 6             | hp            | 175           | \n",
       "| 63 | Maserati Bora | 5             | 8             | hp            | 335           | \n",
       "| 64 | Volvo 142E    | 4             | 4             | hp            | 109           | \n",
       "\n",
       "\n"
      ],
      "text/plain": [
       "   carname       gear cyl variable value\n",
       "62 Ferrari Dino  5    6   hp       175  \n",
       "63 Maserati Bora 5    8   hp       335  \n",
       "64 Volvo 142E    4    4   hp       109  "
      ]
     },
     "metadata": {},
     "output_type": "display_data"
    }
   ],
   "source": [
    "mtcars$carname <- rownames(mtcars)\n",
    "# melt separates the measure.vars and retains the id\n",
    "carMelt <- melt(mtcars, id=c('carname', 'gear', 'cyl'), measure.vars=c(\"mpg\", \"hp\"))\n",
    "head(carMelt, n=3)\n",
    "tail(carMelt, n=3)"
   ]
  },
  {
   "cell_type": "code",
   "execution_count": 5,
   "metadata": {},
   "outputs": [
    {
     "data": {
      "text/html": [
       "<table>\n",
       "<thead><tr><th scope=col>cyl</th><th scope=col>mpg</th><th scope=col>hp</th></tr></thead>\n",
       "<tbody>\n",
       "\t<tr><td>4 </td><td>11</td><td>11</td></tr>\n",
       "\t<tr><td>6 </td><td> 7</td><td> 7</td></tr>\n",
       "\t<tr><td>8 </td><td>14</td><td>14</td></tr>\n",
       "</tbody>\n",
       "</table>\n"
      ],
      "text/latex": [
       "\\begin{tabular}{r|lll}\n",
       " cyl & mpg & hp\\\\\n",
       "\\hline\n",
       "\t 4  & 11 & 11\\\\\n",
       "\t 6  &  7 &  7\\\\\n",
       "\t 8  & 14 & 14\\\\\n",
       "\\end{tabular}\n"
      ],
      "text/markdown": [
       "\n",
       "cyl | mpg | hp | \n",
       "|---|---|---|\n",
       "| 4  | 11 | 11 | \n",
       "| 6  |  7 |  7 | \n",
       "| 8  | 14 | 14 | \n",
       "\n",
       "\n"
      ],
      "text/plain": [
       "  cyl mpg hp\n",
       "1 4   11  11\n",
       "2 6    7   7\n",
       "3 8   14  14"
      ]
     },
     "metadata": {},
     "output_type": "display_data"
    }
   ],
   "source": [
    "cylData <- dcast(carMelt, cyl ~ variable, length)\n",
    "# dcast actually summarises the data such that it sums how many measurements of each cyl for mpg and hp\n",
    "# putting the length states that how many measurements are taken\n",
    "cylData"
   ]
  },
  {
   "cell_type": "code",
   "execution_count": 6,
   "metadata": {},
   "outputs": [
    {
     "data": {
      "text/html": [
       "<table>\n",
       "<thead><tr><th scope=col>cyl</th><th scope=col>mpg</th><th scope=col>hp</th></tr></thead>\n",
       "<tbody>\n",
       "\t<tr><td>4        </td><td>26.66364 </td><td> 82.63636</td></tr>\n",
       "\t<tr><td>6        </td><td>19.74286 </td><td>122.28571</td></tr>\n",
       "\t<tr><td>8        </td><td>15.10000 </td><td>209.21429</td></tr>\n",
       "</tbody>\n",
       "</table>\n"
      ],
      "text/latex": [
       "\\begin{tabular}{r|lll}\n",
       " cyl & mpg & hp\\\\\n",
       "\\hline\n",
       "\t 4         & 26.66364  &  82.63636\\\\\n",
       "\t 6         & 19.74286  & 122.28571\\\\\n",
       "\t 8         & 15.10000  & 209.21429\\\\\n",
       "\\end{tabular}\n"
      ],
      "text/markdown": [
       "\n",
       "cyl | mpg | hp | \n",
       "|---|---|---|\n",
       "| 4         | 26.66364  |  82.63636 | \n",
       "| 6         | 19.74286  | 122.28571 | \n",
       "| 8         | 15.10000  | 209.21429 | \n",
       "\n",
       "\n"
      ],
      "text/plain": [
       "  cyl mpg      hp       \n",
       "1 4   26.66364  82.63636\n",
       "2 6   19.74286 122.28571\n",
       "3 8   15.10000 209.21429"
      ]
     },
     "metadata": {},
     "output_type": "display_data"
    }
   ],
   "source": [
    "cylData <- dcast(carMelt, cyl ~ variable, mean)\n",
    "# dcast actually summarises the data such that it sums how many measurements of each cyl for mpg and hp\n",
    "# putting the length states that how many measurements are taken\n",
    "# this is the same as SQL avg(mpg), avg(hp) group by cyl\n",
    "cylData"
   ]
  },
  {
   "cell_type": "markdown",
   "metadata": {},
   "source": [
    "# Averaging values"
   ]
  },
  {
   "cell_type": "code",
   "execution_count": 7,
   "metadata": {},
   "outputs": [
    {
     "data": {
      "text/html": [
       "<table>\n",
       "<thead><tr><th scope=col>count</th><th scope=col>spray</th></tr></thead>\n",
       "<tbody>\n",
       "\t<tr><td>10</td><td>A </td></tr>\n",
       "\t<tr><td> 7</td><td>A </td></tr>\n",
       "\t<tr><td>20</td><td>A </td></tr>\n",
       "\t<tr><td>14</td><td>A </td></tr>\n",
       "\t<tr><td>14</td><td>A </td></tr>\n",
       "\t<tr><td>12</td><td>A </td></tr>\n",
       "</tbody>\n",
       "</table>\n"
      ],
      "text/latex": [
       "\\begin{tabular}{r|ll}\n",
       " count & spray\\\\\n",
       "\\hline\n",
       "\t 10 & A \\\\\n",
       "\t  7 & A \\\\\n",
       "\t 20 & A \\\\\n",
       "\t 14 & A \\\\\n",
       "\t 14 & A \\\\\n",
       "\t 12 & A \\\\\n",
       "\\end{tabular}\n"
      ],
      "text/markdown": [
       "\n",
       "count | spray | \n",
       "|---|---|---|---|---|---|\n",
       "| 10 | A  | \n",
       "|  7 | A  | \n",
       "| 20 | A  | \n",
       "| 14 | A  | \n",
       "| 14 | A  | \n",
       "| 12 | A  | \n",
       "\n",
       "\n"
      ],
      "text/plain": [
       "  count spray\n",
       "1 10    A    \n",
       "2  7    A    \n",
       "3 20    A    \n",
       "4 14    A    \n",
       "5 14    A    \n",
       "6 12    A    "
      ]
     },
     "metadata": {},
     "output_type": "display_data"
    }
   ],
   "source": [
    "head(InsectSprays)"
   ]
  },
  {
   "cell_type": "code",
   "execution_count": 8,
   "metadata": {},
   "outputs": [
    {
     "data": {
      "text/html": [
       "<dl class=dl-horizontal>\n",
       "\t<dt>A</dt>\n",
       "\t\t<dd>174</dd>\n",
       "\t<dt>B</dt>\n",
       "\t\t<dd>184</dd>\n",
       "\t<dt>C</dt>\n",
       "\t\t<dd>25</dd>\n",
       "\t<dt>D</dt>\n",
       "\t\t<dd>59</dd>\n",
       "\t<dt>E</dt>\n",
       "\t\t<dd>42</dd>\n",
       "\t<dt>F</dt>\n",
       "\t\t<dd>200</dd>\n",
       "</dl>\n"
      ],
      "text/plain": [
       "  A   B   C   D   E   F \n",
       "174 184  25  59  42 200 "
      ]
     },
     "metadata": {},
     "output_type": "display_data"
    }
   ],
   "source": [
    "# apply to count along the index spray, the function sum\n",
    "tapply(InsectSprays$count, InsectSprays$spray, sum)"
   ]
  },
  {
   "cell_type": "code",
   "execution_count": 9,
   "metadata": {},
   "outputs": [
    {
     "data": {
      "text/html": [
       "<dl>\n",
       "\t<dt>$A</dt>\n",
       "\t\t<dd><ol class=list-inline>\n",
       "\t<li>10</li>\n",
       "\t<li>7</li>\n",
       "\t<li>20</li>\n",
       "\t<li>14</li>\n",
       "\t<li>14</li>\n",
       "\t<li>12</li>\n",
       "\t<li>10</li>\n",
       "\t<li>23</li>\n",
       "\t<li>17</li>\n",
       "\t<li>20</li>\n",
       "\t<li>14</li>\n",
       "\t<li>13</li>\n",
       "</ol>\n",
       "</dd>\n",
       "\t<dt>$B</dt>\n",
       "\t\t<dd><ol class=list-inline>\n",
       "\t<li>11</li>\n",
       "\t<li>17</li>\n",
       "\t<li>21</li>\n",
       "\t<li>11</li>\n",
       "\t<li>16</li>\n",
       "\t<li>14</li>\n",
       "\t<li>17</li>\n",
       "\t<li>17</li>\n",
       "\t<li>19</li>\n",
       "\t<li>21</li>\n",
       "\t<li>7</li>\n",
       "\t<li>13</li>\n",
       "</ol>\n",
       "</dd>\n",
       "\t<dt>$C</dt>\n",
       "\t\t<dd><ol class=list-inline>\n",
       "\t<li>0</li>\n",
       "\t<li>1</li>\n",
       "\t<li>7</li>\n",
       "\t<li>2</li>\n",
       "\t<li>3</li>\n",
       "\t<li>1</li>\n",
       "\t<li>2</li>\n",
       "\t<li>1</li>\n",
       "\t<li>3</li>\n",
       "\t<li>0</li>\n",
       "\t<li>1</li>\n",
       "\t<li>4</li>\n",
       "</ol>\n",
       "</dd>\n",
       "\t<dt>$D</dt>\n",
       "\t\t<dd><ol class=list-inline>\n",
       "\t<li>3</li>\n",
       "\t<li>5</li>\n",
       "\t<li>12</li>\n",
       "\t<li>6</li>\n",
       "\t<li>4</li>\n",
       "\t<li>3</li>\n",
       "\t<li>5</li>\n",
       "\t<li>5</li>\n",
       "\t<li>5</li>\n",
       "\t<li>5</li>\n",
       "\t<li>2</li>\n",
       "\t<li>4</li>\n",
       "</ol>\n",
       "</dd>\n",
       "\t<dt>$E</dt>\n",
       "\t\t<dd><ol class=list-inline>\n",
       "\t<li>3</li>\n",
       "\t<li>5</li>\n",
       "\t<li>3</li>\n",
       "\t<li>5</li>\n",
       "\t<li>3</li>\n",
       "\t<li>6</li>\n",
       "\t<li>1</li>\n",
       "\t<li>1</li>\n",
       "\t<li>3</li>\n",
       "\t<li>2</li>\n",
       "\t<li>6</li>\n",
       "\t<li>4</li>\n",
       "</ol>\n",
       "</dd>\n",
       "\t<dt>$F</dt>\n",
       "\t\t<dd><ol class=list-inline>\n",
       "\t<li>11</li>\n",
       "\t<li>9</li>\n",
       "\t<li>15</li>\n",
       "\t<li>22</li>\n",
       "\t<li>15</li>\n",
       "\t<li>16</li>\n",
       "\t<li>13</li>\n",
       "\t<li>10</li>\n",
       "\t<li>26</li>\n",
       "\t<li>26</li>\n",
       "\t<li>24</li>\n",
       "\t<li>13</li>\n",
       "</ol>\n",
       "</dd>\n",
       "</dl>\n"
      ],
      "text/latex": [
       "\\begin{description}\n",
       "\\item[\\$A] \\begin{enumerate*}\n",
       "\\item 10\n",
       "\\item 7\n",
       "\\item 20\n",
       "\\item 14\n",
       "\\item 14\n",
       "\\item 12\n",
       "\\item 10\n",
       "\\item 23\n",
       "\\item 17\n",
       "\\item 20\n",
       "\\item 14\n",
       "\\item 13\n",
       "\\end{enumerate*}\n",
       "\n",
       "\\item[\\$B] \\begin{enumerate*}\n",
       "\\item 11\n",
       "\\item 17\n",
       "\\item 21\n",
       "\\item 11\n",
       "\\item 16\n",
       "\\item 14\n",
       "\\item 17\n",
       "\\item 17\n",
       "\\item 19\n",
       "\\item 21\n",
       "\\item 7\n",
       "\\item 13\n",
       "\\end{enumerate*}\n",
       "\n",
       "\\item[\\$C] \\begin{enumerate*}\n",
       "\\item 0\n",
       "\\item 1\n",
       "\\item 7\n",
       "\\item 2\n",
       "\\item 3\n",
       "\\item 1\n",
       "\\item 2\n",
       "\\item 1\n",
       "\\item 3\n",
       "\\item 0\n",
       "\\item 1\n",
       "\\item 4\n",
       "\\end{enumerate*}\n",
       "\n",
       "\\item[\\$D] \\begin{enumerate*}\n",
       "\\item 3\n",
       "\\item 5\n",
       "\\item 12\n",
       "\\item 6\n",
       "\\item 4\n",
       "\\item 3\n",
       "\\item 5\n",
       "\\item 5\n",
       "\\item 5\n",
       "\\item 5\n",
       "\\item 2\n",
       "\\item 4\n",
       "\\end{enumerate*}\n",
       "\n",
       "\\item[\\$E] \\begin{enumerate*}\n",
       "\\item 3\n",
       "\\item 5\n",
       "\\item 3\n",
       "\\item 5\n",
       "\\item 3\n",
       "\\item 6\n",
       "\\item 1\n",
       "\\item 1\n",
       "\\item 3\n",
       "\\item 2\n",
       "\\item 6\n",
       "\\item 4\n",
       "\\end{enumerate*}\n",
       "\n",
       "\\item[\\$F] \\begin{enumerate*}\n",
       "\\item 11\n",
       "\\item 9\n",
       "\\item 15\n",
       "\\item 22\n",
       "\\item 15\n",
       "\\item 16\n",
       "\\item 13\n",
       "\\item 10\n",
       "\\item 26\n",
       "\\item 26\n",
       "\\item 24\n",
       "\\item 13\n",
       "\\end{enumerate*}\n",
       "\n",
       "\\end{description}\n"
      ],
      "text/markdown": [
       "$A\n",
       ":   1. 10\n",
       "2. 7\n",
       "3. 20\n",
       "4. 14\n",
       "5. 14\n",
       "6. 12\n",
       "7. 10\n",
       "8. 23\n",
       "9. 17\n",
       "10. 20\n",
       "11. 14\n",
       "12. 13\n",
       "\n",
       "\n",
       "\n",
       "$B\n",
       ":   1. 11\n",
       "2. 17\n",
       "3. 21\n",
       "4. 11\n",
       "5. 16\n",
       "6. 14\n",
       "7. 17\n",
       "8. 17\n",
       "9. 19\n",
       "10. 21\n",
       "11. 7\n",
       "12. 13\n",
       "\n",
       "\n",
       "\n",
       "$C\n",
       ":   1. 0\n",
       "2. 1\n",
       "3. 7\n",
       "4. 2\n",
       "5. 3\n",
       "6. 1\n",
       "7. 2\n",
       "8. 1\n",
       "9. 3\n",
       "10. 0\n",
       "11. 1\n",
       "12. 4\n",
       "\n",
       "\n",
       "\n",
       "$D\n",
       ":   1. 3\n",
       "2. 5\n",
       "3. 12\n",
       "4. 6\n",
       "5. 4\n",
       "6. 3\n",
       "7. 5\n",
       "8. 5\n",
       "9. 5\n",
       "10. 5\n",
       "11. 2\n",
       "12. 4\n",
       "\n",
       "\n",
       "\n",
       "$E\n",
       ":   1. 3\n",
       "2. 5\n",
       "3. 3\n",
       "4. 5\n",
       "5. 3\n",
       "6. 6\n",
       "7. 1\n",
       "8. 1\n",
       "9. 3\n",
       "10. 2\n",
       "11. 6\n",
       "12. 4\n",
       "\n",
       "\n",
       "\n",
       "$F\n",
       ":   1. 11\n",
       "2. 9\n",
       "3. 15\n",
       "4. 22\n",
       "5. 15\n",
       "6. 16\n",
       "7. 13\n",
       "8. 10\n",
       "9. 26\n",
       "10. 26\n",
       "11. 24\n",
       "12. 13\n",
       "\n",
       "\n",
       "\n",
       "\n",
       "\n"
      ],
      "text/plain": [
       "$A\n",
       " [1] 10  7 20 14 14 12 10 23 17 20 14 13\n",
       "\n",
       "$B\n",
       " [1] 11 17 21 11 16 14 17 17 19 21  7 13\n",
       "\n",
       "$C\n",
       " [1] 0 1 7 2 3 1 2 1 3 0 1 4\n",
       "\n",
       "$D\n",
       " [1]  3  5 12  6  4  3  5  5  5  5  2  4\n",
       "\n",
       "$E\n",
       " [1] 3 5 3 5 3 6 1 1 3 2 6 4\n",
       "\n",
       "$F\n",
       " [1] 11  9 15 22 15 16 13 10 26 26 24 13\n"
      ]
     },
     "metadata": {},
     "output_type": "display_data"
    }
   ],
   "source": [
    "spIns = split(InsectSprays$count, InsectSprays$spray)\n",
    "spIns"
   ]
  },
  {
   "cell_type": "code",
   "execution_count": 10,
   "metadata": {
    "collapsed": true
   },
   "outputs": [],
   "source": [
    "# apply sum to each of the index\n",
    "sprCount = lapply(spIns, sum)"
   ]
  },
  {
   "cell_type": "code",
   "execution_count": 11,
   "metadata": {},
   "outputs": [
    {
     "data": {
      "text/html": [
       "<dl class=dl-horizontal>\n",
       "\t<dt>A</dt>\n",
       "\t\t<dd>174</dd>\n",
       "\t<dt>B</dt>\n",
       "\t\t<dd>184</dd>\n",
       "\t<dt>C</dt>\n",
       "\t\t<dd>25</dd>\n",
       "\t<dt>D</dt>\n",
       "\t\t<dd>59</dd>\n",
       "\t<dt>E</dt>\n",
       "\t\t<dd>42</dd>\n",
       "\t<dt>F</dt>\n",
       "\t\t<dd>200</dd>\n",
       "</dl>\n"
      ],
      "text/latex": [
       "\\begin{description*}\n",
       "\\item[A] 174\n",
       "\\item[B] 184\n",
       "\\item[C] 25\n",
       "\\item[D] 59\n",
       "\\item[E] 42\n",
       "\\item[F] 200\n",
       "\\end{description*}\n"
      ],
      "text/markdown": [
       "A\n",
       ":   174B\n",
       ":   184C\n",
       ":   25D\n",
       ":   59E\n",
       ":   42F\n",
       ":   200\n",
       "\n"
      ],
      "text/plain": [
       "  A   B   C   D   E   F \n",
       "174 184  25  59  42 200 "
      ]
     },
     "metadata": {},
     "output_type": "display_data"
    }
   ],
   "source": [
    "# produces a vector\n",
    "unlisted_spr <- unlist(sprCount)\n",
    "unlisted_spr"
   ]
  },
  {
   "cell_type": "code",
   "execution_count": 12,
   "metadata": {},
   "outputs": [
    {
     "data": {
      "text/html": [
       "<strong>A:</strong> 174"
      ],
      "text/latex": [
       "\\textbf{A:} 174"
      ],
      "text/markdown": [
       "**A:** 174"
      ],
      "text/plain": [
       "  A \n",
       "174 "
      ]
     },
     "metadata": {},
     "output_type": "display_data"
    }
   ],
   "source": [
    "# vector is like javascript array which each values has a string index\n",
    "# to read a value in a vector, use the following:\n",
    "\n",
    "unlisted_spr['A']"
   ]
  },
  {
   "cell_type": "code",
   "execution_count": 13,
   "metadata": {
    "scrolled": true
   },
   "outputs": [
    {
     "data": {
      "text/html": [
       "<dl class=dl-horizontal>\n",
       "\t<dt>A</dt>\n",
       "\t\t<dd>174</dd>\n",
       "\t<dt>B</dt>\n",
       "\t\t<dd>184</dd>\n",
       "\t<dt>C</dt>\n",
       "\t\t<dd>25</dd>\n",
       "\t<dt>D</dt>\n",
       "\t\t<dd>59</dd>\n",
       "\t<dt>E</dt>\n",
       "\t\t<dd>42</dd>\n",
       "\t<dt>F</dt>\n",
       "\t\t<dd>200</dd>\n",
       "</dl>\n"
      ],
      "text/latex": [
       "\\begin{description*}\n",
       "\\item[A] 174\n",
       "\\item[B] 184\n",
       "\\item[C] 25\n",
       "\\item[D] 59\n",
       "\\item[E] 42\n",
       "\\item[F] 200\n",
       "\\end{description*}\n"
      ],
      "text/markdown": [
       "A\n",
       ":   174B\n",
       ":   184C\n",
       ":   25D\n",
       ":   59E\n",
       ":   42F\n",
       ":   200\n",
       "\n"
      ],
      "text/plain": [
       "  A   B   C   D   E   F \n",
       "174 184  25  59  42 200 "
      ]
     },
     "metadata": {},
     "output_type": "display_data"
    }
   ],
   "source": [
    "# sapply is the same as lapply. however it simplifies the result and returns a vector instead\n",
    "sapply(spIns, sum)"
   ]
  },
  {
   "cell_type": "code",
   "execution_count": 14,
   "metadata": {},
   "outputs": [
    {
     "data": {
      "text/html": [
       "<table>\n",
       "<thead><tr><th scope=col>spray</th><th scope=col>mySum</th></tr></thead>\n",
       "<tbody>\n",
       "\t<tr><td>A  </td><td>174</td></tr>\n",
       "\t<tr><td>B  </td><td>184</td></tr>\n",
       "\t<tr><td>C  </td><td> 25</td></tr>\n",
       "\t<tr><td>D  </td><td> 59</td></tr>\n",
       "\t<tr><td>E  </td><td> 42</td></tr>\n",
       "\t<tr><td>F  </td><td>200</td></tr>\n",
       "</tbody>\n",
       "</table>\n"
      ],
      "text/latex": [
       "\\begin{tabular}{r|ll}\n",
       " spray & mySum\\\\\n",
       "\\hline\n",
       "\t A   & 174\\\\\n",
       "\t B   & 184\\\\\n",
       "\t C   &  25\\\\\n",
       "\t D   &  59\\\\\n",
       "\t E   &  42\\\\\n",
       "\t F   & 200\\\\\n",
       "\\end{tabular}\n"
      ],
      "text/markdown": [
       "\n",
       "spray | mySum | \n",
       "|---|---|---|---|---|---|\n",
       "| A   | 174 | \n",
       "| B   | 184 | \n",
       "| C   |  25 | \n",
       "| D   |  59 | \n",
       "| E   |  42 | \n",
       "| F   | 200 | \n",
       "\n",
       "\n"
      ],
      "text/plain": [
       "  spray mySum\n",
       "1 A     174  \n",
       "2 B     184  \n",
       "3 C      25  \n",
       "4 D      59  \n",
       "5 E      42  \n",
       "6 F     200  "
      ]
     },
     "metadata": {},
     "output_type": "display_data"
    }
   ],
   "source": [
    "library(plyr)\n",
    "\n",
    "#result of ddply is a list\n",
    "\n",
    "ddplyResult <- ddply(InsectSprays,.(spray), summarize, mySum=sum(count))\n",
    "ddplyResult"
   ]
  },
  {
   "cell_type": "code",
   "execution_count": 18,
   "metadata": {},
   "outputs": [
    {
     "data": {
      "text/html": [
       "<table>\n",
       "<thead><tr><th scope=col>spray</th><th scope=col>sum</th></tr></thead>\n",
       "<tbody>\n",
       "\t<tr><td>A  </td><td>174</td></tr>\n",
       "\t<tr><td>A  </td><td>174</td></tr>\n",
       "\t<tr><td>A  </td><td>174</td></tr>\n",
       "\t<tr><td>A  </td><td>174</td></tr>\n",
       "\t<tr><td>A  </td><td>174</td></tr>\n",
       "\t<tr><td>A  </td><td>174</td></tr>\n",
       "\t<tr><td>A  </td><td>174</td></tr>\n",
       "\t<tr><td>A  </td><td>174</td></tr>\n",
       "\t<tr><td>A  </td><td>174</td></tr>\n",
       "\t<tr><td>A  </td><td>174</td></tr>\n",
       "\t<tr><td>A  </td><td>174</td></tr>\n",
       "\t<tr><td>A  </td><td>174</td></tr>\n",
       "\t<tr><td>B  </td><td>184</td></tr>\n",
       "\t<tr><td>B  </td><td>184</td></tr>\n",
       "\t<tr><td>B  </td><td>184</td></tr>\n",
       "\t<tr><td>B  </td><td>184</td></tr>\n",
       "\t<tr><td>B  </td><td>184</td></tr>\n",
       "\t<tr><td>B  </td><td>184</td></tr>\n",
       "\t<tr><td>B  </td><td>184</td></tr>\n",
       "\t<tr><td>B  </td><td>184</td></tr>\n",
       "\t<tr><td>B  </td><td>184</td></tr>\n",
       "\t<tr><td>B  </td><td>184</td></tr>\n",
       "\t<tr><td>B  </td><td>184</td></tr>\n",
       "\t<tr><td>B  </td><td>184</td></tr>\n",
       "\t<tr><td>C  </td><td> 25</td></tr>\n",
       "\t<tr><td>C  </td><td> 25</td></tr>\n",
       "\t<tr><td>C  </td><td> 25</td></tr>\n",
       "\t<tr><td>C  </td><td> 25</td></tr>\n",
       "\t<tr><td>C  </td><td> 25</td></tr>\n",
       "\t<tr><td>C  </td><td> 25</td></tr>\n",
       "\t<tr><td>⋮</td><td>⋮</td></tr>\n",
       "\t<tr><td>D  </td><td> 59</td></tr>\n",
       "\t<tr><td>D  </td><td> 59</td></tr>\n",
       "\t<tr><td>D  </td><td> 59</td></tr>\n",
       "\t<tr><td>D  </td><td> 59</td></tr>\n",
       "\t<tr><td>D  </td><td> 59</td></tr>\n",
       "\t<tr><td>D  </td><td> 59</td></tr>\n",
       "\t<tr><td>E  </td><td> 42</td></tr>\n",
       "\t<tr><td>E  </td><td> 42</td></tr>\n",
       "\t<tr><td>E  </td><td> 42</td></tr>\n",
       "\t<tr><td>E  </td><td> 42</td></tr>\n",
       "\t<tr><td>E  </td><td> 42</td></tr>\n",
       "\t<tr><td>E  </td><td> 42</td></tr>\n",
       "\t<tr><td>E  </td><td> 42</td></tr>\n",
       "\t<tr><td>E  </td><td> 42</td></tr>\n",
       "\t<tr><td>E  </td><td> 42</td></tr>\n",
       "\t<tr><td>E  </td><td> 42</td></tr>\n",
       "\t<tr><td>E  </td><td> 42</td></tr>\n",
       "\t<tr><td>E  </td><td> 42</td></tr>\n",
       "\t<tr><td>F  </td><td>200</td></tr>\n",
       "\t<tr><td>F  </td><td>200</td></tr>\n",
       "\t<tr><td>F  </td><td>200</td></tr>\n",
       "\t<tr><td>F  </td><td>200</td></tr>\n",
       "\t<tr><td>F  </td><td>200</td></tr>\n",
       "\t<tr><td>F  </td><td>200</td></tr>\n",
       "\t<tr><td>F  </td><td>200</td></tr>\n",
       "\t<tr><td>F  </td><td>200</td></tr>\n",
       "\t<tr><td>F  </td><td>200</td></tr>\n",
       "\t<tr><td>F  </td><td>200</td></tr>\n",
       "\t<tr><td>F  </td><td>200</td></tr>\n",
       "\t<tr><td>F  </td><td>200</td></tr>\n",
       "</tbody>\n",
       "</table>\n"
      ],
      "text/latex": [
       "\\begin{tabular}{r|ll}\n",
       " spray & sum\\\\\n",
       "\\hline\n",
       "\t A   & 174\\\\\n",
       "\t A   & 174\\\\\n",
       "\t A   & 174\\\\\n",
       "\t A   & 174\\\\\n",
       "\t A   & 174\\\\\n",
       "\t A   & 174\\\\\n",
       "\t A   & 174\\\\\n",
       "\t A   & 174\\\\\n",
       "\t A   & 174\\\\\n",
       "\t A   & 174\\\\\n",
       "\t A   & 174\\\\\n",
       "\t A   & 174\\\\\n",
       "\t B   & 184\\\\\n",
       "\t B   & 184\\\\\n",
       "\t B   & 184\\\\\n",
       "\t B   & 184\\\\\n",
       "\t B   & 184\\\\\n",
       "\t B   & 184\\\\\n",
       "\t B   & 184\\\\\n",
       "\t B   & 184\\\\\n",
       "\t B   & 184\\\\\n",
       "\t B   & 184\\\\\n",
       "\t B   & 184\\\\\n",
       "\t B   & 184\\\\\n",
       "\t C   &  25\\\\\n",
       "\t C   &  25\\\\\n",
       "\t C   &  25\\\\\n",
       "\t C   &  25\\\\\n",
       "\t C   &  25\\\\\n",
       "\t C   &  25\\\\\n",
       "\t ⋮ & ⋮\\\\\n",
       "\t D   &  59\\\\\n",
       "\t D   &  59\\\\\n",
       "\t D   &  59\\\\\n",
       "\t D   &  59\\\\\n",
       "\t D   &  59\\\\\n",
       "\t D   &  59\\\\\n",
       "\t E   &  42\\\\\n",
       "\t E   &  42\\\\\n",
       "\t E   &  42\\\\\n",
       "\t E   &  42\\\\\n",
       "\t E   &  42\\\\\n",
       "\t E   &  42\\\\\n",
       "\t E   &  42\\\\\n",
       "\t E   &  42\\\\\n",
       "\t E   &  42\\\\\n",
       "\t E   &  42\\\\\n",
       "\t E   &  42\\\\\n",
       "\t E   &  42\\\\\n",
       "\t F   & 200\\\\\n",
       "\t F   & 200\\\\\n",
       "\t F   & 200\\\\\n",
       "\t F   & 200\\\\\n",
       "\t F   & 200\\\\\n",
       "\t F   & 200\\\\\n",
       "\t F   & 200\\\\\n",
       "\t F   & 200\\\\\n",
       "\t F   & 200\\\\\n",
       "\t F   & 200\\\\\n",
       "\t F   & 200\\\\\n",
       "\t F   & 200\\\\\n",
       "\\end{tabular}\n"
      ],
      "text/markdown": [
       "\n",
       "spray | sum | \n",
       "|---|---|---|---|---|---|---|---|---|---|---|---|---|---|---|---|---|---|---|---|---|---|---|---|---|---|---|---|---|---|---|---|---|---|---|---|---|---|---|---|---|---|---|---|---|---|---|---|---|---|---|---|---|---|---|---|---|---|---|---|---|\n",
       "| A   | 174 | \n",
       "| A   | 174 | \n",
       "| A   | 174 | \n",
       "| A   | 174 | \n",
       "| A   | 174 | \n",
       "| A   | 174 | \n",
       "| A   | 174 | \n",
       "| A   | 174 | \n",
       "| A   | 174 | \n",
       "| A   | 174 | \n",
       "| A   | 174 | \n",
       "| A   | 174 | \n",
       "| B   | 184 | \n",
       "| B   | 184 | \n",
       "| B   | 184 | \n",
       "| B   | 184 | \n",
       "| B   | 184 | \n",
       "| B   | 184 | \n",
       "| B   | 184 | \n",
       "| B   | 184 | \n",
       "| B   | 184 | \n",
       "| B   | 184 | \n",
       "| B   | 184 | \n",
       "| B   | 184 | \n",
       "| C   |  25 | \n",
       "| C   |  25 | \n",
       "| C   |  25 | \n",
       "| C   |  25 | \n",
       "| C   |  25 | \n",
       "| C   |  25 | \n",
       "| ⋮ | ⋮ | \n",
       "| D   |  59 | \n",
       "| D   |  59 | \n",
       "| D   |  59 | \n",
       "| D   |  59 | \n",
       "| D   |  59 | \n",
       "| D   |  59 | \n",
       "| E   |  42 | \n",
       "| E   |  42 | \n",
       "| E   |  42 | \n",
       "| E   |  42 | \n",
       "| E   |  42 | \n",
       "| E   |  42 | \n",
       "| E   |  42 | \n",
       "| E   |  42 | \n",
       "| E   |  42 | \n",
       "| E   |  42 | \n",
       "| E   |  42 | \n",
       "| E   |  42 | \n",
       "| F   | 200 | \n",
       "| F   | 200 | \n",
       "| F   | 200 | \n",
       "| F   | 200 | \n",
       "| F   | 200 | \n",
       "| F   | 200 | \n",
       "| F   | 200 | \n",
       "| F   | 200 | \n",
       "| F   | 200 | \n",
       "| F   | 200 | \n",
       "| F   | 200 | \n",
       "| F   | 200 | \n",
       "\n",
       "\n"
      ],
      "text/plain": [
       "   spray sum\n",
       "1  A     174\n",
       "2  A     174\n",
       "3  A     174\n",
       "4  A     174\n",
       "5  A     174\n",
       "6  A     174\n",
       "7  A     174\n",
       "8  A     174\n",
       "9  A     174\n",
       "10 A     174\n",
       "11 A     174\n",
       "12 A     174\n",
       "13 B     184\n",
       "14 B     184\n",
       "15 B     184\n",
       "16 B     184\n",
       "17 B     184\n",
       "18 B     184\n",
       "19 B     184\n",
       "20 B     184\n",
       "21 B     184\n",
       "22 B     184\n",
       "23 B     184\n",
       "24 B     184\n",
       "25 C      25\n",
       "26 C      25\n",
       "27 C      25\n",
       "28 C      25\n",
       "29 C      25\n",
       "30 C      25\n",
       "⋮  ⋮     ⋮  \n",
       "43 D      59\n",
       "44 D      59\n",
       "45 D      59\n",
       "46 D      59\n",
       "47 D      59\n",
       "48 D      59\n",
       "49 E      42\n",
       "50 E      42\n",
       "51 E      42\n",
       "52 E      42\n",
       "53 E      42\n",
       "54 E      42\n",
       "55 E      42\n",
       "56 E      42\n",
       "57 E      42\n",
       "58 E      42\n",
       "59 E      42\n",
       "60 E      42\n",
       "61 F     200\n",
       "62 F     200\n",
       "63 F     200\n",
       "64 F     200\n",
       "65 F     200\n",
       "66 F     200\n",
       "67 F     200\n",
       "68 F     200\n",
       "69 F     200\n",
       "70 F     200\n",
       "71 F     200\n",
       "72 F     200"
      ]
     },
     "metadata": {},
     "output_type": "display_data"
    }
   ],
   "source": [
    "ddplyResult <- ddply(InsectSprays,.(spray), summarize, sum=ave(count, FUN=sum))\n",
    "ddplyResult"
   ]
  }
 ],
 "metadata": {
  "kernelspec": {
   "display_name": "R",
   "language": "R",
   "name": "ir"
  },
  "language_info": {
   "codemirror_mode": "r",
   "file_extension": ".r",
   "mimetype": "text/x-r-source",
   "name": "R",
   "pygments_lexer": "r",
   "version": "3.3.2"
  }
 },
 "nbformat": 4,
 "nbformat_minor": 2
}
